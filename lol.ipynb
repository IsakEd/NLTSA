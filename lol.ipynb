{
 "cells": [
  {
   "cell_type": "code",
   "execution_count": 18,
   "metadata": {},
   "outputs": [
    {
     "name": "stdout",
     "output_type": "stream",
     "text": [
      "Network entropy: 0.012093928093115788\n"
     ]
    }
   ],
   "source": [
    "import numpy as np\n",
    "import networkx as nx\n",
    "\n",
    "def logistic_map(x0, r, n):\n",
    "    \"\"\"\n",
    "    Calculates the logistic map time series with initial condition x0, parameter r,\n",
    "    and n time steps.\n",
    "    \"\"\"\n",
    "    x = np.zeros(n)\n",
    "    x[0] = x0\n",
    "    for i in range(1, n):\n",
    "        x[i] = r * x[i-1] * (1 - x[i-1])\n",
    "    return x\n",
    "\n",
    "def hvg_network_entropy(x, m):\n",
    "    \"\"\"\n",
    "    Calculates the network entropy of the horizontal visibility graph constructed from\n",
    "    the time series x with a moving window of size m.\n",
    "    \"\"\"\n",
    "    n = len(x)\n",
    "    G = nx.Graph()\n",
    "    for i in range(n-m+1):\n",
    "        visibility = np.zeros(m)\n",
    "        for j in range(m):\n",
    "            visibility[j] = all(x[i+j] >= x[i:i+j]) or all(x[i+j] <= x[i:i+j])\n",
    "        for j in range(m-1):\n",
    "            if visibility[j] and visibility[j+1]:\n",
    "                G.add_edge(i+j, i+j+1)\n",
    "    degree_distribution = np.array(nx.degree_histogram(G)) / G.number_of_nodes()\n",
    "    d\n",
    "    degree_distribution += 0.0000001\n",
    "    entropy = -np.sum(degree_distribution * np.log(degree_distribution))\n",
    "    return entropy\n",
    "\n",
    "# Example usage\n",
    "x = logistic_map(0.1, 3.7, 10000)[5000:]\n",
    "entropy = hvg_network_entropy(x, 100)\n",
    "print(f\"Network entropy: {entropy}\")"
   ]
  },
  {
   "cell_type": "code",
   "execution_count": null,
   "metadata": {},
   "outputs": [],
   "source": []
  },
  {
   "cell_type": "code",
   "execution_count": null,
   "metadata": {},
   "outputs": [],
   "source": []
  },
  {
   "cell_type": "code",
   "execution_count": null,
   "metadata": {},
   "outputs": [],
   "source": []
  },
  {
   "cell_type": "code",
   "execution_count": null,
   "metadata": {},
   "outputs": [],
   "source": []
  },
  {
   "cell_type": "code",
   "execution_count": null,
   "metadata": {},
   "outputs": [],
   "source": []
  },
  {
   "cell_type": "code",
   "execution_count": null,
   "metadata": {},
   "outputs": [],
   "source": []
  },
  {
   "cell_type": "code",
   "execution_count": null,
   "metadata": {},
   "outputs": [],
   "source": []
  },
  {
   "cell_type": "code",
   "execution_count": null,
   "metadata": {},
   "outputs": [],
   "source": []
  },
  {
   "cell_type": "code",
   "execution_count": null,
   "metadata": {},
   "outputs": [],
   "source": []
  },
  {
   "cell_type": "code",
   "execution_count": null,
   "metadata": {},
   "outputs": [],
   "source": []
  },
  {
   "cell_type": "code",
   "execution_count": null,
   "metadata": {},
   "outputs": [],
   "source": []
  },
  {
   "cell_type": "code",
   "execution_count": null,
   "metadata": {},
   "outputs": [],
   "source": []
  },
  {
   "cell_type": "code",
   "execution_count": null,
   "metadata": {},
   "outputs": [],
   "source": []
  },
  {
   "cell_type": "code",
   "execution_count": null,
   "metadata": {},
   "outputs": [],
   "source": []
  },
  {
   "cell_type": "code",
   "execution_count": null,
   "metadata": {},
   "outputs": [],
   "source": []
  },
  {
   "cell_type": "code",
   "execution_count": null,
   "metadata": {},
   "outputs": [],
   "source": [
    "hvg_network_entropy()"
   ]
  },
  {
   "cell_type": "code",
   "execution_count": null,
   "metadata": {},
   "outputs": [],
   "source": []
  },
  {
   "cell_type": "code",
   "execution_count": null,
   "metadata": {},
   "outputs": [],
   "source": []
  }
 ],
 "metadata": {
  "kernelspec": {
   "display_name": "Python 3",
   "language": "python",
   "name": "python3"
  },
  "language_info": {
   "codemirror_mode": {
    "name": "ipython",
    "version": 3
   },
   "file_extension": ".py",
   "mimetype": "text/x-python",
   "name": "python",
   "nbconvert_exporter": "python",
   "pygments_lexer": "ipython3",
   "version": "3.9.5"
  },
  "orig_nbformat": 4
 },
 "nbformat": 4,
 "nbformat_minor": 2
}
